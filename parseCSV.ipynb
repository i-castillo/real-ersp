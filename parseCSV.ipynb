{
 "cells": [
  {
   "cell_type": "code",
   "execution_count": 6,
   "metadata": {
    "collapsed": true
   },
   "outputs": [],
   "source": [
    "import csv\n",
    "import sys\n",
    "import pprint\n",
    " \n",
    "# Function to convert a csv file to a list of dictionaries.  \n",
    "# Takes in one variable called \"variables_file\"\n",
    "def csv_dict_list(variables_file):\n",
    "     \n",
    "    # Open variable-based csv, \n",
    "    #iterate over the rows and map values to a list of dictionaries containing key/value pairs\n",
    "    reader = csv.DictReader(open(variables_file, \"r\"))\n",
    "    dict_list = []\n",
    "    for line in reader:\n",
    "        dict_list.append(line)\n",
    "    return dict_list\n",
    " \n"
   ]
  },
  {
   "cell_type": "code",
   "execution_count": 7,
   "metadata": {
    "collapsed": true
   },
   "outputs": [],
   "source": [
    "# Calls the csv_dict_list function, passing the named csv\n",
    "def parseAll():\n",
    "    unit7 = csv_dict_list(\"../locationData/unit7.csv\")\n",
    "    unit8 = csv_dict_list(\"../locationData/unit8.csv\")\n",
    "    unit13 = csv_dict_list(\"../locationData/unit13.csv\")\n",
    "    unit20 = csv_dict_list(\"../locationData/unit20.csv\")\n"
   ]
  }
 ],
 "metadata": {
  "kernelspec": {
   "display_name": "Python 3",
   "language": "python",
   "name": "python3"
  },
  "language_info": {
   "codemirror_mode": {
    "name": "ipython",
    "version": 3
   },
   "file_extension": ".py",
   "mimetype": "text/x-python",
   "name": "python",
   "nbconvert_exporter": "python",
   "pygments_lexer": "ipython3",
   "version": "3.6.3"
  }
 },
 "nbformat": 4,
 "nbformat_minor": 2
}
